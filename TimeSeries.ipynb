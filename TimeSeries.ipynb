{
 "cells": [
  {
   "cell_type": "markdown",
   "metadata": {},
   "source": [
    "Data Processing"
   ]
  },
  {
   "cell_type": "code",
   "execution_count": 1,
   "metadata": {},
   "outputs": [],
   "source": [
    "import matplotlib.pyplot as plt\n",
    "import seaborn as sns\n",
    "import pandas as pd\n",
    "from sklearn.preprocessing import StandardScaler\n",
    "from sklearn.preprocessing import MinMaxScaler\n",
    "from sklearn.preprocessing import MaxAbsScaler"
   ]
  },
  {
   "cell_type": "code",
   "execution_count": 5,
   "metadata": {},
   "outputs": [
    {
     "name": "stdout",
     "output_type": "stream",
     "text": [
      "\n",
      "First Few Rows:\n",
      "      #YY   MM   DD   hh    mm  WDIR  WSPD  GST  WVHT   DPD  ...    PRES  \\\n",
      "0     NaN  NaN  NaN  NaN   NaN   NaN   NaN  NaN   NaN   NaN  ...     NaN   \n",
      "1  2020.0  1.0  1.0  0.0   0.0  69.0   5.5  7.1   1.3  14.3  ...  1014.4   \n",
      "2  2020.0  1.0  1.0  0.0  10.0  64.0   4.5  5.5  99.0  99.0  ...  1014.4   \n",
      "3  2020.0  1.0  1.0  0.0  20.0  63.0   4.7  5.8  99.0  99.0  ...  1014.5   \n",
      "4  2020.0  1.0  1.0  0.0  30.0  72.0   5.1  6.4  99.0  99.0  ...  1014.6   \n",
      "\n",
      "   ATMP   WTMP   DEWP   VIS  TIDE  WDI  R WSP  D GST  WSP  \n",
      "0   NaN    NaN    NaN   NaN   NaN  NaN    NaN    NaN  NaN  \n",
      "1  26.7   28.1  999.0  99.0  99.0  NaN    NaN    NaN  NaN  \n",
      "2  26.6  999.0  999.0  99.0  99.0  NaN    NaN    NaN  NaN  \n",
      "3  26.9  999.0  999.0  99.0  99.0  NaN    NaN    NaN  NaN  \n",
      "4  27.0  999.0  999.0  99.0  99.0  NaN    NaN    NaN  NaN  \n",
      "\n",
      "[5 rows x 22 columns]\n",
      "\n",
      "Target Column: WVHT\n",
      "Feature Columns: ['#YY', 'MM', 'DD', 'hh', 'mm', 'WDIR', 'WSPD', 'GST', 'DPD', 'APD', 'MWD', 'PRES', 'ATMP', 'WTMP', 'DEWP', 'VIS', 'TIDE', 'WDI', 'R WSP', 'D GST', 'WSP']\n",
      "Number of rows: 206920\n",
      "Number of columns: 22\n",
      "Total size (rows × columns): 4552240\n"
     ]
    }
   ],
   "source": [
    "# Load the data\n",
    "data = pd.read_csv('merged_data.csv')  # Replace 'your_dataset.csv' with the path to your dataset file\n",
    "\"\"\"\n",
    "# Examine the data structure\n",
    "print(\"Data Dimensions:\", data.shape)  # Show number of rows and columns\n",
    "print(\"\\nData Info:\")\n",
    "print(data.info())  # Display data types and non-null counts\n",
    "print(\"\\nSummary Statistics:\")\n",
    "print(data.describe())  # Summary statistics for numerical columns\n",
    "\"\"\"\n",
    "# Display the first few rows of the dataset\n",
    "print(\"\\nFirst Few Rows:\")\n",
    "print(data.head())\n",
    "\n",
    "# Identify target and feature columns\n",
    "# Replace 'target_column_name' with the actual name of your target column\n",
    "target_column = 'WVHT'\n",
    "features = [col for col in data.columns if col != target_column]\n",
    "\n",
    "print(\"\\nTarget Column:\", target_column)\n",
    "print(\"Feature Columns:\", features)\n",
    "\n",
    "print(\"Number of rows:\", data.shape[0])\n",
    "print(\"Number of columns:\", data.shape[1])\n"
   ]
  },
  {
   "cell_type": "markdown",
   "metadata": {},
   "source": [
    "Select only Time directly related features"
   ]
  },
  {
   "cell_type": "code",
   "execution_count": 7,
   "metadata": {},
   "outputs": [
    {
     "name": "stdout",
     "output_type": "stream",
     "text": [
      "           #YY    MM    DD    hh    mm\n",
      "0          NaN   NaN   NaN   NaN   NaN\n",
      "1       2020.0   1.0   1.0   0.0   0.0\n",
      "2       2020.0   1.0   1.0   0.0  10.0\n",
      "3       2020.0   1.0   1.0   0.0  20.0\n",
      "4       2020.0   1.0   1.0   0.0  30.0\n",
      "...        ...   ...   ...   ...   ...\n",
      "206915  2023.0  12.0  31.0  23.0  10.0\n",
      "206916  2023.0  12.0  31.0  23.0  20.0\n",
      "206917  2023.0  12.0  31.0  23.0  30.0\n",
      "206918  2023.0  12.0  31.0  23.0  40.0\n",
      "206919  2023.0  12.0  31.0  23.0  50.0\n",
      "\n",
      "[206920 rows x 5 columns]\n",
      "Number of rows: 206920\n",
      "Number of columns: 5\n",
      "Merged DataFrame saved to merged_TimeWVHT_data.csv\n",
      "           #YY    MM    DD    hh    mm  WVHT\n",
      "0          NaN   NaN   NaN   NaN   NaN   NaN\n",
      "1       2020.0   1.0   1.0   0.0   0.0   1.3\n",
      "2       2020.0   1.0   1.0   0.0  10.0  99.0\n",
      "3       2020.0   1.0   1.0   0.0  20.0  99.0\n",
      "4       2020.0   1.0   1.0   0.0  30.0  99.0\n",
      "...        ...   ...   ...   ...   ...   ...\n",
      "206915  2023.0  12.0  31.0  23.0  10.0  99.0\n",
      "206916  2023.0  12.0  31.0  23.0  20.0  99.0\n",
      "206917  2023.0  12.0  31.0  23.0  30.0  99.0\n",
      "206918  2023.0  12.0  31.0  23.0  40.0  99.0\n",
      "206919  2023.0  12.0  31.0  23.0  50.0  99.0\n",
      "\n",
      "[206920 rows x 6 columns]\n"
     ]
    }
   ],
   "source": [
    "# 1. Make a copy of the current data\n",
    "df_copy = data.copy()\n",
    "\n",
    "# 2. Drop all columns except '#YY', 'MM', 'DD', 'hh', 'mm'\n",
    "columns_to_keep = ['#YY', 'MM', 'DD', 'hh', 'mm']\n",
    "df_reduced = df_copy[columns_to_keep]\n",
    "\n",
    "# Display the resulting DataFrame\n",
    "print(df_reduced)\n",
    "\n",
    "print(\"Number of rows:\", df_reduced.shape[0])\n",
    "print(\"Number of columns:\", df_reduced.shape[1])\n",
    "\n",
    "# 3. Merge the new DataFrame with the target column 'WVHT'\n",
    "df_merged = df_reduced.join(data['WVHT'])\n",
    "\n",
    "# 4. to CSV\n",
    "output_file = \"merged_TimeWVHT_data.csv\"\n",
    "df_merged.to_csv(output_file, index=False)\n",
    "\n",
    "# Display the merged DataFrame\n",
    "print(f\"Merged DataFrame saved to {output_file}\")\n",
    "print(df_merged)"
   ]
  },
  {
   "cell_type": "code",
   "execution_count": null,
   "metadata": {},
   "outputs": [],
   "source": []
  }
 ],
 "metadata": {
  "kernelspec": {
   "display_name": "Python 3",
   "language": "python",
   "name": "python3"
  },
  "language_info": {
   "codemirror_mode": {
    "name": "ipython",
    "version": 3
   },
   "file_extension": ".py",
   "mimetype": "text/x-python",
   "name": "python",
   "nbconvert_exporter": "python",
   "pygments_lexer": "ipython3",
   "version": "3.12.0"
  }
 },
 "nbformat": 4,
 "nbformat_minor": 2
}
