{
 "cells": [
  {
   "cell_type": "markdown",
   "metadata": {},
   "source": [
    "Data Processing"
   ]
  },
  {
   "cell_type": "code",
   "execution_count": 1,
   "metadata": {},
   "outputs": [],
   "source": [
    "import matplotlib.pyplot as plt\n",
    "import seaborn as sns\n",
    "import pandas as pd\n",
    "from sklearn.preprocessing import StandardScaler\n",
    "from sklearn.preprocessing import MinMaxScaler\n",
    "from sklearn.preprocessing import MaxAbsScaler"
   ]
  },
  {
   "cell_type": "code",
   "execution_count": 18,
   "metadata": {},
   "outputs": [],
   "source": [
    "# Load the data\n",
    "data = pd.read_csv('merged_data.csv')  # Replace 'your_dataset.csv' with the path to your dataset file"
   ]
  },
  {
   "cell_type": "code",
   "execution_count": 19,
   "metadata": {},
   "outputs": [
    {
     "name": "stdout",
     "output_type": "stream",
     "text": [
      "999s have been replaced with the average value.\n"
     ]
    }
   ],
   "source": [
    "# Fill in invalid data for WTMP\n",
    "# Filter the data to exclude 999 and calculate the average\n",
    "filtered_data = data[data['WTMP'] != 999]\n",
    "average = filtered_data['WTMP'].mean()\n",
    "# Fill the 999s with the average\n",
    "data['WTMP'] = data['WTMP'].replace(999, average).fillna(average)\n",
    "print(\"999s have been replaced with the average value.\")\n",
    "\n",
    "# Adjusting ATMP"
   ]
  },
  {
   "cell_type": "code",
   "execution_count": 20,
   "metadata": {},
   "outputs": [
    {
     "name": "stdout",
     "output_type": "stream",
     "text": [
      "999 and NaN values in ATMP have been replaced with the average temperature.\n"
     ]
    }
   ],
   "source": [
    "# Fill in invalid data for ATMP\n",
    "filtered_data = data[data['ATMP'] != 999]\n",
    "average_temp = filtered_data['ATMP'].mean()\n",
    "\n",
    "# Replace 999 and NaN values with the average temperature\n",
    "data['ATMP'] = data['ATMP'].replace(999, average_temp).fillna(average_temp)\n",
    "\n",
    "print(\"999 and NaN values in ATMP have been replaced with the average temperature.\")"
   ]
  },
  {
   "cell_type": "markdown",
   "metadata": {},
   "source": [
    "Select only Time directly related features"
   ]
  },
  {
   "cell_type": "code",
   "execution_count": null,
   "metadata": {},
   "outputs": [
    {
     "name": "stdout",
     "output_type": "stream",
     "text": [
      "           #YY    MM    DD    hh  ATMP    mm\n",
      "0          NaN   NaN   NaN   NaN   NaN   NaN\n",
      "1       2020.0   1.0   1.0   0.0  26.7   0.0\n",
      "2       2020.0   1.0   1.0   0.0  26.6  10.0\n",
      "3       2020.0   1.0   1.0   0.0  26.9  20.0\n",
      "4       2020.0   1.0   1.0   0.0  27.0  30.0\n",
      "...        ...   ...   ...   ...   ...   ...\n",
      "206915  2023.0  12.0  31.0  23.0  26.5  10.0\n",
      "206916  2023.0  12.0  31.0  23.0  26.5  20.0\n",
      "206917  2023.0  12.0  31.0  23.0  26.6  30.0\n",
      "206918  2023.0  12.0  31.0  23.0  26.5  40.0\n",
      "206919  2023.0  12.0  31.0  23.0  26.4  50.0\n",
      "\n",
      "[206920 rows x 6 columns]\n",
      "Number of rows: 206920\n",
      "Number of columns: 6\n",
      "Merged DataFrame saved to merged_TimeWVHT_data.csv\n",
      "           #YY    MM    DD    hh  ATMP    mm  WVHT\n",
      "0          NaN   NaN   NaN   NaN   NaN   NaN   NaN\n",
      "1       2020.0   1.0   1.0   0.0  26.7   0.0   1.3\n",
      "2       2020.0   1.0   1.0   0.0  26.6  10.0  99.0\n",
      "3       2020.0   1.0   1.0   0.0  26.9  20.0  99.0\n",
      "4       2020.0   1.0   1.0   0.0  27.0  30.0  99.0\n",
      "...        ...   ...   ...   ...   ...   ...   ...\n",
      "206915  2023.0  12.0  31.0  23.0  26.5  10.0  99.0\n",
      "206916  2023.0  12.0  31.0  23.0  26.5  20.0  99.0\n",
      "206917  2023.0  12.0  31.0  23.0  26.6  30.0  99.0\n",
      "206918  2023.0  12.0  31.0  23.0  26.5  40.0  99.0\n",
      "206919  2023.0  12.0  31.0  23.0  26.4  50.0  99.0\n",
      "\n",
      "[206920 rows x 7 columns]\n"
     ]
    }
   ],
   "source": [
    "# 1. Make a copy of the current data\n",
    "df_copy = data.copy()\n",
    "\n",
    "# 2. Drop all columns except '#YY', 'MM', 'DD', 'hh', 'mm'\n",
    "columns_to_keep = ['#YY', 'MM', 'DD', 'hh', 'ATMP', 'WTMP', 'mm']\n",
    "df_reduced = df_copy[columns_to_keep]\n",
    "\n",
    "# Display the resulting DataFrame\n",
    "print(df_reduced)\n",
    "\n",
    "print(\"Number of rows:\", df_reduced.shape[0])\n",
    "print(\"Number of columns:\", df_reduced.shape[1])\n",
    "\n",
    "# 3. Merge the new DataFrame with the target column 'WVHT'\n",
    "df_merged = df_reduced.join(data['WVHT'])\n",
    "\n",
    "# 4. to CSV\n",
    "output_file = \"merged_TimeWVHT_data.csv\"\n",
    "df_merged.to_csv(output_file, index=False)\n",
    "\n",
    "# Display the merged DataFrame\n",
    "print(f\"Merged DataFrame saved to {output_file}\")\n",
    "print(df_merged)"
   ]
  },
  {
   "cell_type": "code",
   "execution_count": null,
   "metadata": {},
   "outputs": [],
   "source": []
  }
 ],
 "metadata": {
  "kernelspec": {
   "display_name": "Python 3",
   "language": "python",
   "name": "python3"
  },
  "language_info": {
   "codemirror_mode": {
    "name": "ipython",
    "version": 3
   },
   "file_extension": ".py",
   "mimetype": "text/x-python",
   "name": "python",
   "nbconvert_exporter": "python",
   "pygments_lexer": "ipython3",
   "version": "3.11.1"
  }
 },
 "nbformat": 4,
 "nbformat_minor": 2
}
