{
 "cells": [
  {
   "cell_type": "code",
   "execution_count": 1,
   "metadata": {},
   "outputs": [],
   "source": [
    "import numpy as np\n",
    "import pandas as pd"
   ]
  },
  {
   "cell_type": "code",
   "execution_count": null,
   "metadata": {},
   "outputs": [],
   "source": []
  },
  {
   "cell_type": "code",
   "execution_count": 5,
   "metadata": {},
   "outputs": [
    {
     "name": "stdout",
     "output_type": "stream",
     "text": [
      "  #YY  MM DD hh mm DEP01 DIR01 SPD01 DEP02 DIR02 SPD02 DEP03 DIR03 SPD03 DEP04 DIR04 SPD04 DEP05 DIR05 SPD05 DEP06 DIR06 SPD06 DEP07 DIR07 SPD07 DEP08 DIR08 SPD08 DEP09 DIR09 SPD09 DEP10 DIR10 SPD10 DEP11 DIR11 SPD11 DEP12 DIR12 SPD12 DEP13 DIR13 SPD13 DEP14 DIR14 SPD14 DEP15 DIR15 SPD15 DEP16 DIR16 SPD16 DEP17 DIR17 SPD17 DEP18 DIR18 SPD18 DEP19 DIR19 SPD19 DEP20 DIR20 SPD20  \\\n",
      "0  #yr  mo dy hr mn     m  degT  cm/s     m  degT...                                                                                                                                                                                                                                                                                                                                         \n",
      "1  2020 01 01 00 00     2.5   303   4.0     4.0  ...                                                                                                                                                                                                                                                                                                                                         \n",
      "2  2020 01 01 01 00     2.5   311  10.9     4.0  ...                                                                                                                                                                                                                                                                                                                                         \n",
      "3  2020 01 01 02 00     2.5   327   2.2     4.0  ...                                                                                                                                                                                                                                                                                                                                         \n",
      "4  2020 01 01 03 00     2.5   144   6.7     4.0  ...                                                                                                                                                                                                                                                                                                                                         \n",
      "\n",
      "  #YY  MM DD hh mm WDIR WSPD GST  WVHT   DPD   APD MWD   PRES  ATMP  WTMP  DEWP  VIS  TIDE  \n",
      "0                                                NaN                                        \n",
      "1                                                NaN                                        \n",
      "2                                                NaN                                        \n",
      "3                                                NaN                                        \n",
      "4                                                NaN                                        \n"
     ]
    }
   ],
   "source": [
    "import pandas as pd\n",
    "\n",
    "# Load the CSV data files\n",
    "data_2020_csv = pd.read_csv('41053_2020.csv')\n",
    "data_2021_csv = pd.read_csv('41053_2021.csv')\n",
    "data_2022_csv = pd.read_csv('41053_2022.csv')\n",
    "data_2023_csv = pd.read_csv('41053_2023.csv')\n",
    "\n",
    "# Merging all datasets\n",
    "merged_data = pd.concat([data_2020_csv, data_2021_csv, data_2022_csv, data_2023_csv], ignore_index=True)\n",
    "\n",
    "# Display the merged data\n",
    "print(merged_data.head())  # Display the first few rows of the merged data"
   ]
  },
  {
   "cell_type": "code",
   "execution_count": 6,
   "metadata": {},
   "outputs": [
    {
     "name": "stdout",
     "output_type": "stream",
     "text": [
      "File exported to: /Users/jdhzy/Desktop/data/merged_data.csv\n"
     ]
    }
   ],
   "source": [
    "# Export the merged data to a CSV file\n",
    "output_path = '/Users/jdhzy/Desktop/data/merged_data.csv'  # Replace 'path/to/' with your desired directory\n",
    "merged_data.to_csv(output_path, index=False)\n",
    "\n",
    "# Print the path to confirm the file location\n",
    "print(\"File exported to:\", output_path)"
   ]
  }
 ],
 "metadata": {
  "kernelspec": {
   "display_name": "Python 3",
   "language": "python",
   "name": "python3"
  },
  "language_info": {
   "codemirror_mode": {
    "name": "ipython",
    "version": 3
   },
   "file_extension": ".py",
   "mimetype": "text/x-python",
   "name": "python",
   "nbconvert_exporter": "python",
   "pygments_lexer": "ipython3",
   "version": "3.11.1"
  }
 },
 "nbformat": 4,
 "nbformat_minor": 2
}
