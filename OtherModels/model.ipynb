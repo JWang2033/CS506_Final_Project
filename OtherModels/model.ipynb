{
 "cells": [
  {
   "cell_type": "code",
   "execution_count": 27,
   "metadata": {},
   "outputs": [
    {
     "name": "stdout",
     "output_type": "stream",
     "text": [
      "Defaulting to user installation because normal site-packages is not writeable\n",
      "Requirement already satisfied: prophet in /Users/michaelli/Library/Python/3.9/lib/python/site-packages (1.1.6)\n",
      "Requirement already satisfied: cmdstanpy>=1.0.4 in /Users/michaelli/Library/Python/3.9/lib/python/site-packages (from prophet) (1.2.4)\n",
      "Requirement already satisfied: numpy>=1.15.4 in /Users/michaelli/Library/Python/3.9/lib/python/site-packages (from prophet) (1.26.4)\n",
      "Requirement already satisfied: matplotlib>=2.0.0 in /Users/michaelli/Library/Python/3.9/lib/python/site-packages (from prophet) (3.9.2)\n",
      "Requirement already satisfied: pandas>=1.0.4 in /Users/michaelli/Library/Python/3.9/lib/python/site-packages (from prophet) (2.2.3)\n",
      "Requirement already satisfied: holidays<1,>=0.25 in /Users/michaelli/Library/Python/3.9/lib/python/site-packages (from prophet) (0.62)\n",
      "Requirement already satisfied: tqdm>=4.36.1 in /Users/michaelli/Library/Python/3.9/lib/python/site-packages (from prophet) (4.66.6)\n",
      "Requirement already satisfied: importlib-resources in /Users/michaelli/Library/Python/3.9/lib/python/site-packages (from prophet) (6.4.5)\n",
      "Requirement already satisfied: stanio<2.0.0,>=0.4.0 in /Users/michaelli/Library/Python/3.9/lib/python/site-packages (from cmdstanpy>=1.0.4->prophet) (0.5.1)\n",
      "Requirement already satisfied: python-dateutil in /Users/michaelli/Library/Python/3.9/lib/python/site-packages (from holidays<1,>=0.25->prophet) (2.9.0.post0)\n",
      "Requirement already satisfied: contourpy>=1.0.1 in /Users/michaelli/Library/Python/3.9/lib/python/site-packages (from matplotlib>=2.0.0->prophet) (1.3.0)\n",
      "Requirement already satisfied: cycler>=0.10 in /Users/michaelli/Library/Python/3.9/lib/python/site-packages (from matplotlib>=2.0.0->prophet) (0.12.1)\n",
      "Requirement already satisfied: fonttools>=4.22.0 in /Users/michaelli/Library/Python/3.9/lib/python/site-packages (from matplotlib>=2.0.0->prophet) (4.54.1)\n",
      "Requirement already satisfied: kiwisolver>=1.3.1 in /Users/michaelli/Library/Python/3.9/lib/python/site-packages (from matplotlib>=2.0.0->prophet) (1.4.7)\n",
      "Requirement already satisfied: packaging>=20.0 in /Users/michaelli/Library/Python/3.9/lib/python/site-packages (from matplotlib>=2.0.0->prophet) (24.1)\n",
      "Requirement already satisfied: pillow>=8 in /Users/michaelli/Library/Python/3.9/lib/python/site-packages (from matplotlib>=2.0.0->prophet) (11.0.0)\n",
      "Requirement already satisfied: pyparsing>=2.3.1 in /Users/michaelli/Library/Python/3.9/lib/python/site-packages (from matplotlib>=2.0.0->prophet) (3.2.0)\n",
      "Requirement already satisfied: zipp>=3.1.0 in /Users/michaelli/Library/Python/3.9/lib/python/site-packages (from importlib-resources->prophet) (3.20.2)\n",
      "Requirement already satisfied: pytz>=2020.1 in /Users/michaelli/Library/Python/3.9/lib/python/site-packages (from pandas>=1.0.4->prophet) (2024.2)\n",
      "Requirement already satisfied: tzdata>=2022.7 in /Users/michaelli/Library/Python/3.9/lib/python/site-packages (from pandas>=1.0.4->prophet) (2024.2)\n",
      "Requirement already satisfied: six>=1.5 in /Applications/Xcode.app/Contents/Developer/Library/Frameworks/Python3.framework/Versions/3.9/lib/python3.9/site-packages (from python-dateutil->holidays<1,>=0.25->prophet) (1.15.0)\n",
      "Note: you may need to restart the kernel to use updated packages.\n"
     ]
    }
   ],
   "source": [
    "pip install prophet"
   ]
  },
  {
   "cell_type": "code",
   "execution_count": 1,
   "metadata": {},
   "outputs": [
    {
     "name": "stderr",
     "output_type": "stream",
     "text": [
      "/Users/michaelli/Library/Python/3.9/lib/python/site-packages/tqdm/auto.py:21: TqdmWarning: IProgress not found. Please update jupyter and ipywidgets. See https://ipywidgets.readthedocs.io/en/stable/user_install.html\n",
      "  from .autonotebook import tqdm as notebook_tqdm\n",
      "Importing plotly failed. Interactive plots will not work.\n",
      "20:50:29 - cmdstanpy - INFO - Chain [1] start processing\n",
      "20:50:29 - cmdstanpy - INFO - Chain [1] done processing\n",
      "20:50:30 - cmdstanpy - INFO - Chain [1] start processing\n",
      "20:50:30 - cmdstanpy - INFO - Chain [1] done processing\n"
     ]
    },
    {
     "name": "stdout",
     "output_type": "stream",
     "text": [
      "Mean Absolute Error (WVHT) on 2024 Test Data for WestTampa_42098: 0.33470398945904645\n",
      "Mean Absolute Error (WTMP) on 2024 Test Data for WestTampa_42098: 0.7999667646117596\n"
     ]
    },
    {
     "name": "stderr",
     "output_type": "stream",
     "text": [
      "20:50:30 - cmdstanpy - INFO - Chain [1] start processing\n",
      "20:50:31 - cmdstanpy - INFO - Chain [1] done processing\n",
      "20:50:31 - cmdstanpy - INFO - Chain [1] start processing\n",
      "20:50:31 - cmdstanpy - INFO - Chain [1] done processing\n"
     ]
    },
    {
     "name": "stdout",
     "output_type": "stream",
     "text": [
      "Mean Absolute Error (WVHT) on 2024 Test Data for SanDiego_46235: 0.3369177992628603\n",
      "Mean Absolute Error (WTMP) on 2024 Test Data for SanDiego_46235: 0.8083667819218342\n"
     ]
    },
    {
     "name": "stderr",
     "output_type": "stream",
     "text": [
      "20:50:31 - cmdstanpy - INFO - Chain [1] start processing\n",
      "20:50:31 - cmdstanpy - INFO - Chain [1] done processing\n",
      "20:50:32 - cmdstanpy - INFO - Chain [1] start processing\n",
      "20:50:32 - cmdstanpy - INFO - Chain [1] done processing\n"
     ]
    },
    {
     "name": "stdout",
     "output_type": "stream",
     "text": [
      "Mean Absolute Error (WVHT) on 2024 Test Data for SanFrancisco_46213: 0.8859015204730719\n",
      "Mean Absolute Error (WTMP) on 2024 Test Data for SanFrancisco_46213: 0.9174790620175971\n"
     ]
    },
    {
     "name": "stderr",
     "output_type": "stream",
     "text": [
      "20:50:32 - cmdstanpy - INFO - Chain [1] start processing\n",
      "20:50:32 - cmdstanpy - INFO - Chain [1] done processing\n",
      "20:50:33 - cmdstanpy - INFO - Chain [1] start processing\n",
      "20:50:33 - cmdstanpy - INFO - Chain [1] done processing\n"
     ]
    },
    {
     "name": "stdout",
     "output_type": "stream",
     "text": [
      "Mean Absolute Error (WVHT) on 2024 Test Data for Washington_46041: 0.8872051991125656\n",
      "Mean Absolute Error (WTMP) on 2024 Test Data for Washington_46041: 0.6453701722177669\n"
     ]
    },
    {
     "name": "stderr",
     "output_type": "stream",
     "text": [
      "20:50:33 - cmdstanpy - INFO - Chain [1] start processing\n",
      "20:50:34 - cmdstanpy - INFO - Chain [1] done processing\n",
      "20:50:34 - cmdstanpy - INFO - Chain [1] start processing\n",
      "20:50:34 - cmdstanpy - INFO - Chain [1] done processing\n"
     ]
    },
    {
     "name": "stdout",
     "output_type": "stream",
     "text": [
      "Mean Absolute Error (WVHT) on 2024 Test Data for PuertoRico_41053: 0.3495580268656558\n",
      "Mean Absolute Error (WTMP) on 2024 Test Data for PuertoRico_41053: 0.22489349914105156\n"
     ]
    },
    {
     "name": "stderr",
     "output_type": "stream",
     "text": [
      "20:50:34 - cmdstanpy - INFO - Chain [1] start processing\n",
      "20:50:35 - cmdstanpy - INFO - Chain [1] done processing\n",
      "20:50:35 - cmdstanpy - INFO - Chain [1] start processing\n",
      "20:50:35 - cmdstanpy - INFO - Chain [1] done processing\n"
     ]
    },
    {
     "name": "stdout",
     "output_type": "stream",
     "text": [
      "Mean Absolute Error (WVHT) on 2024 Test Data for Oregon_46229: 0.8555477876473696\n",
      "Mean Absolute Error (WTMP) on 2024 Test Data for Oregon_46229: 0.6576357994338625\n"
     ]
    },
    {
     "name": "stderr",
     "output_type": "stream",
     "text": [
      "20:50:36 - cmdstanpy - INFO - Chain [1] start processing\n",
      "20:50:36 - cmdstanpy - INFO - Chain [1] done processing\n"
     ]
    },
    {
     "name": "stdout",
     "output_type": "stream",
     "text": [
      "Skipping NewYork_SDHN4: Insufficient data for training or testing.\n"
     ]
    },
    {
     "name": "stderr",
     "output_type": "stream",
     "text": [
      "20:50:36 - cmdstanpy - INFO - Chain [1] start processing\n",
      "20:50:36 - cmdstanpy - INFO - Chain [1] done processing\n"
     ]
    },
    {
     "name": "stdout",
     "output_type": "stream",
     "text": [
      "Mean Absolute Error (WVHT) on 2024 Test Data for RhodeIsland_44097: 0.6230282826549443\n",
      "Mean Absolute Error (WTMP) on 2024 Test Data for RhodeIsland_44097: 0.7042971712311896\n"
     ]
    },
    {
     "name": "stderr",
     "output_type": "stream",
     "text": [
      "20:50:37 - cmdstanpy - INFO - Chain [1] start processing\n",
      "20:50:37 - cmdstanpy - INFO - Chain [1] done processing\n"
     ]
    },
    {
     "name": "stdout",
     "output_type": "stream",
     "text": [
      "Skipping Miami_VAKF1: Insufficient data for training or testing.\n"
     ]
    },
    {
     "name": "stderr",
     "output_type": "stream",
     "text": [
      "20:50:37 - cmdstanpy - INFO - Chain [1] start processing\n",
      "20:50:37 - cmdstanpy - INFO - Chain [1] done processing\n"
     ]
    },
    {
     "name": "stdout",
     "output_type": "stream",
     "text": [
      "Mean Absolute Error (WVHT) on 2024 Test Data for NorthCarolina_41108: 0.410572980050985\n",
      "Mean Absolute Error (WTMP) on 2024 Test Data for NorthCarolina_41108: 0.9634814467607501\n"
     ]
    },
    {
     "name": "stderr",
     "output_type": "stream",
     "text": [
      "20:50:37 - cmdstanpy - INFO - Chain [1] start processing\n",
      "20:50:38 - cmdstanpy - INFO - Chain [1] done processing\n",
      "20:50:38 - cmdstanpy - INFO - Chain [1] start processing\n",
      "20:50:38 - cmdstanpy - INFO - Chain [1] done processing\n"
     ]
    },
    {
     "name": "stdout",
     "output_type": "stream",
     "text": [
      "Mean Absolute Error (WVHT) on 2024 Test Data for Houston_42035: 0.31703193976138366\n",
      "Mean Absolute Error (WTMP) on 2024 Test Data for Houston_42035: 0.37964966278718126\n"
     ]
    },
    {
     "name": "stderr",
     "output_type": "stream",
     "text": [
      "20:50:38 - cmdstanpy - INFO - Chain [1] start processing\n"
     ]
    },
    {
     "name": "stdout",
     "output_type": "stream",
     "text": [
      "Skipping NewJersey_ACYN4: Insufficient data for training or testing.\n"
     ]
    },
    {
     "name": "stderr",
     "output_type": "stream",
     "text": [
      "20:50:39 - cmdstanpy - INFO - Chain [1] done processing\n",
      "20:50:39 - cmdstanpy - INFO - Chain [1] start processing\n",
      "20:50:39 - cmdstanpy - INFO - Chain [1] done processing\n"
     ]
    },
    {
     "name": "stdout",
     "output_type": "stream",
     "text": [
      "Mean Absolute Error (WVHT) on 2024 Test Data for 41053: 0.27154656238445585\n",
      "Mean Absolute Error (WTMP) on 2024 Test Data for 41053: 0.17793887271269132\n"
     ]
    },
    {
     "name": "stderr",
     "output_type": "stream",
     "text": [
      "20:50:39 - cmdstanpy - INFO - Chain [1] start processing\n",
      "20:50:39 - cmdstanpy - INFO - Chain [1] done processing\n"
     ]
    },
    {
     "name": "stdout",
     "output_type": "stream",
     "text": [
      "Skipping LosAngelas_ICAC1: Insufficient data for training or testing.\n",
      "Skipping SanDiego_SDBC1: Insufficient data for training or testing.\n",
      "Skipping NewOrleans_GISL1: Insufficient data for training or testing.\n"
     ]
    },
    {
     "name": "stderr",
     "output_type": "stream",
     "text": [
      "20:50:40 - cmdstanpy - INFO - Chain [1] start processing\n",
      "20:50:40 - cmdstanpy - INFO - Chain [1] done processing\n"
     ]
    },
    {
     "name": "stdout",
     "output_type": "stream",
     "text": [
      "Mean Absolute Error (WVHT) on 2024 Test Data for MexicoBay_42019: 0.5758529076602203\n",
      "Mean Absolute Error (WTMP) on 2024 Test Data for MexicoBay_42019: 0.3502831396945439\n"
     ]
    },
    {
     "name": "stderr",
     "output_type": "stream",
     "text": [
      "20:50:40 - cmdstanpy - INFO - Chain [1] start processing\n",
      "20:50:40 - cmdstanpy - INFO - Chain [1] done processing\n",
      "20:50:40 - cmdstanpy - INFO - Chain [1] start processing\n",
      "20:50:40 - cmdstanpy - INFO - Chain [1] done processing\n"
     ]
    },
    {
     "name": "stdout",
     "output_type": "stream",
     "text": [
      "Mean Absolute Error (WVHT) on 2024 Test Data for NewOrleans_42040: 0.5539155210555771\n",
      "Mean Absolute Error (WTMP) on 2024 Test Data for NewOrleans_42040: 0.6982786898267099\n"
     ]
    },
    {
     "name": "stderr",
     "output_type": "stream",
     "text": [
      "20:50:41 - cmdstanpy - INFO - Chain [1] start processing\n",
      "20:50:41 - cmdstanpy - INFO - Chain [1] done processing\n",
      "20:50:41 - cmdstanpy - INFO - Chain [1] start processing\n",
      "20:50:41 - cmdstanpy - INFO - Chain [1] done processing\n"
     ]
    },
    {
     "name": "stdout",
     "output_type": "stream",
     "text": [
      "Mean Absolute Error (WVHT) on 2024 Test Data for Plymouth_44090: 0.3715171258278569\n",
      "Mean Absolute Error (WTMP) on 2024 Test Data for Plymouth_44090: 0.7469054959275554\n"
     ]
    },
    {
     "name": "stderr",
     "output_type": "stream",
     "text": [
      "20:50:42 - cmdstanpy - INFO - Chain [1] start processing\n",
      "20:50:42 - cmdstanpy - INFO - Chain [1] done processing\n",
      "20:50:42 - cmdstanpy - INFO - Chain [1] start processing\n",
      "20:50:42 - cmdstanpy - INFO - Chain [1] done processing\n"
     ]
    },
    {
     "name": "stdout",
     "output_type": "stream",
     "text": [
      "Mean Absolute Error (WVHT) on 2024 Test Data for LosAngeles_46221: 0.3798622806566957\n",
      "Mean Absolute Error (WTMP) on 2024 Test Data for LosAngeles_46221: 0.7727908611178846\n"
     ]
    },
    {
     "name": "stderr",
     "output_type": "stream",
     "text": [
      "20:50:43 - cmdstanpy - INFO - Chain [1] start processing\n",
      "20:50:43 - cmdstanpy - INFO - Chain [1] done processing\n",
      "20:50:43 - cmdstanpy - INFO - Chain [1] start processing\n",
      "20:50:43 - cmdstanpy - INFO - Chain [1] done processing\n"
     ]
    },
    {
     "name": "stdout",
     "output_type": "stream",
     "text": [
      "Mean Absolute Error (WVHT) on 2024 Test Data for Hawaii_51205: 0.5651663305487697\n",
      "Mean Absolute Error (WTMP) on 2024 Test Data for Hawaii_51205: 0.24604764517006997\n"
     ]
    },
    {
     "name": "stderr",
     "output_type": "stream",
     "text": [
      "20:50:44 - cmdstanpy - INFO - Chain [1] start processing\n"
     ]
    },
    {
     "name": "stdout",
     "output_type": "stream",
     "text": [
      "Skipping Gulfport_PTBM6: Insufficient data for training or testing.\n"
     ]
    },
    {
     "name": "stderr",
     "output_type": "stream",
     "text": [
      "20:50:44 - cmdstanpy - INFO - Chain [1] done processing\n",
      "20:50:44 - cmdstanpy - INFO - Chain [1] start processing\n",
      "20:50:44 - cmdstanpy - INFO - Chain [1] done processing\n"
     ]
    },
    {
     "name": "stdout",
     "output_type": "stream",
     "text": [
      "Mean Absolute Error (WVHT) on 2024 Test Data for Savannah_41008: 0.3686351202067007\n",
      "Mean Absolute Error (WTMP) on 2024 Test Data for Savannah_41008: 0.8237214210057767\n"
     ]
    },
    {
     "name": "stderr",
     "output_type": "stream",
     "text": [
      "20:50:45 - cmdstanpy - INFO - Chain [1] start processing\n",
      "20:50:45 - cmdstanpy - INFO - Chain [1] done processing\n",
      "20:50:45 - cmdstanpy - INFO - Chain [1] start processing\n",
      "20:50:45 - cmdstanpy - INFO - Chain [1] done processing\n"
     ]
    },
    {
     "name": "stdout",
     "output_type": "stream",
     "text": [
      "Mean Absolute Error (WVHT) on 2024 Test Data for NewJersey_44091: 0.48549503627401985\n",
      "Mean Absolute Error (WTMP) on 2024 Test Data for NewJersey_44091: 0.7106119253027505\n"
     ]
    },
    {
     "name": "stderr",
     "output_type": "stream",
     "text": [
      "20:50:46 - cmdstanpy - INFO - Chain [1] start processing\n",
      "20:50:46 - cmdstanpy - INFO - Chain [1] done processing\n",
      "20:50:46 - cmdstanpy - INFO - Chain [1] start processing\n",
      "20:50:47 - cmdstanpy - INFO - Chain [1] done processing\n"
     ]
    },
    {
     "name": "stdout",
     "output_type": "stream",
     "text": [
      "Mean Absolute Error (WVHT) on 2024 Test Data for Orlando_41113: 0.2513815089614255\n",
      "Mean Absolute Error (WTMP) on 2024 Test Data for Orlando_41113: 0.8645165567592756\n",
      "Skipping Houston_CAPL1: Insufficient data for training or testing.\n",
      "All forecasts (with WTMP predictions and confidence intervals) saved to forecast.csv\n",
      "All plots saved in plots\n"
     ]
    }
   ],
   "source": [
    "import pandas as pd\n",
    "from prophet import Prophet\n",
    "from sklearn.metrics import mean_absolute_error\n",
    "import matplotlib.pyplot as plt\n",
    "import glob\n",
    "import os\n",
    "\n",
    "# Create a directory for the plots if it doesn't exist\n",
    "plots_dir = 'plots'\n",
    "os.makedirs(plots_dir, exist_ok=True)\n",
    "\n",
    "# Get all CSV files in the CleanedData folder\n",
    "station_files = glob.glob('CleanedData/*.csv')\n",
    "\n",
    "output_file = 'forecast.csv'\n",
    "first_run = True  # To handle header writing in the output CSV\n",
    "\n",
    "for file_path in station_files:\n",
    "    # Extract station_id from filename\n",
    "    station_id = os.path.splitext(os.path.basename(file_path))[0]\n",
    "    \n",
    "    # Load and preprocess data\n",
    "    df = pd.read_csv(file_path)\n",
    "    df['Year'] = df['#YY'].astype(int)\n",
    "    df['Month'] = df['MM'].astype(int)\n",
    "    df['Day'] = df['DD'].astype(int)\n",
    "    df['datetime'] = pd.to_datetime(df[['Year', 'Month', 'Day']])\n",
    "\n",
    "    # Check necessary columns\n",
    "    if 'WVHT' not in df.columns or 'WTMP' not in df.columns:\n",
    "        print(f\"Skipping {station_id}: Missing WVHT or WTMP column.\")\n",
    "        continue\n",
    "\n",
    "    # Prepare dataframes for Prophet\n",
    "    df_wvht = df.rename(columns={'datetime': 'ds', 'WVHT': 'y'})[['ds', 'y', 'WTMP']]\n",
    "    df_wtmp = df.rename(columns={'datetime': 'ds', 'WTMP': 'y'})[['ds', 'y']]\n",
    "    \n",
    "    # Define training and testing periods\n",
    "    train_cutoff = '2024-01-01'\n",
    "    test_start = '2023-01-01'\n",
    "    \n",
    "    # Split data for WVHT\n",
    "    train_wvht = df_wvht[df_wvht['ds'] < train_cutoff]\n",
    "    test_wvht = df_wvht[df_wvht['ds'] >= test_start]\n",
    "    \n",
    "    # Split data for WTMP\n",
    "    train_wtmp = df_wtmp[df_wtmp['ds'] < train_cutoff]\n",
    "    test_wtmp = df_wtmp[df_wtmp['ds'] >= test_start]\n",
    "\n",
    "    # Drop rows where WTMP is 999 in WTMP training data only\n",
    "    train_wtmp = train_wtmp[train_wtmp['y'] != 999]\n",
    "\n",
    "    if train_wvht.empty or test_wvht.empty or train_wtmp.empty or test_wtmp.empty:\n",
    "        print(f\"Skipping {station_id}: Insufficient data for training or testing.\")\n",
    "        continue\n",
    "    \n",
    "    # ------------------------------------\n",
    "    # Step 1: Forecast WTMP First\n",
    "    # ------------------------------------\n",
    "    wtmp_model = Prophet(yearly_seasonality=True, interval_width=0.90)\n",
    "    wtmp_model.fit(train_wtmp)\n",
    "    \n",
    "    last_train_date_wtmp = train_wtmp['ds'].max()\n",
    "    last_test_date_wtmp = test_wtmp['ds'].max()\n",
    "    periods_wtmp = (last_test_date_wtmp - last_train_date_wtmp).days\n",
    "\n",
    "    future_wtmp = wtmp_model.make_future_dataframe(periods=periods_wtmp)\n",
    "    wtmp_forecast = wtmp_model.predict(future_wtmp)\n",
    "    \n",
    "    # Extract WTMP predictions for the test period\n",
    "    wtmp_forecast_test = wtmp_forecast[wtmp_forecast['ds'] >= test_start].copy()\n",
    "    # Rename columns for clarity\n",
    "    wtmp_forecast_test.rename(columns={\n",
    "        'yhat': 'WTMP_pred', \n",
    "        'yhat_lower': 'WTMP_pred_lower', \n",
    "        'yhat_upper': 'WTMP_pred_upper'\n",
    "    }, inplace=True)\n",
    "\n",
    "    # ------------------------------------\n",
    "    # Step 2: Use predicted WTMP as a regressor for WVHT\n",
    "    # ------------------------------------\n",
    "    last_train_date_wvht = train_wvht['ds'].max()\n",
    "    last_test_date_wvht = test_wvht['ds'].max()\n",
    "    periods_wvht = (last_test_date_wvht - last_train_date_wvht).days\n",
    "    \n",
    "    # Create a future dataframe for WVHT\n",
    "    future_wvht = pd.DataFrame({'ds': pd.date_range(start=last_train_date_wvht + pd.Timedelta(days=1), \n",
    "                                                    end=last_test_date_wvht, freq='D')})\n",
    "    \n",
    "    # Combine train data and future data\n",
    "    full_wvht = pd.concat([train_wvht[['ds', 'y', 'WTMP']], future_wvht], ignore_index=True)\n",
    "    \n",
    "    # Merge predicted WTMP into full_wvht for future dates\n",
    "    wtmp_forecast_test['ds_m_d'] = wtmp_forecast_test['ds'].dt.strftime('%m-%d')\n",
    "    full_wvht['ds_m_d'] = full_wvht['ds'].dt.strftime('%m-%d')\n",
    "    \n",
    "    full_wvht = pd.merge(full_wvht, wtmp_forecast_test[['ds_m_d', 'WTMP_pred']], on='ds_m_d', how='left')\n",
    "    \n",
    "    # Where WTMP_pred is available, use it instead of actual WTMP (for future dates)\n",
    "    full_wvht['WTMP'] = full_wvht['WTMP'].fillna(full_wvht['WTMP_pred'])\n",
    "    \n",
    "    # Fit Prophet model for WVHT with WTMP as a regressor\n",
    "    wvht_model = Prophet(yearly_seasonality=True, interval_width=0.70)\n",
    "    wvht_model.add_regressor('WTMP')\n",
    "    \n",
    "    # Train only on historical data\n",
    "    train_wvht_for_fit = full_wvht[full_wvht['ds'] < train_cutoff].dropna(subset=['y', 'WTMP'])\n",
    "    wvht_model.fit(train_wvht_for_fit[['ds', 'y', 'WTMP']])\n",
    "    \n",
    "    # Predict WVHT\n",
    "    wvht_forecast = wvht_model.predict(full_wvht[['ds', 'WTMP']])\n",
    "    wvht_forecast_test = wvht_forecast[wvht_forecast['ds'] >= test_start].copy()\n",
    "    wvht_forecast_test['ds_m_d'] = wvht_forecast_test['ds'].dt.strftime('%m-%d')\n",
    "\n",
    "    # Evaluate WVHT\n",
    "    test_merged = pd.merge(test_wvht[['ds', 'y']], \n",
    "                           wvht_forecast_test[['ds', 'yhat', 'yhat_lower', 'yhat_upper']], \n",
    "                           on='ds', how='inner')\n",
    "    mae_wvht = mean_absolute_error(test_merged['y'], test_merged['yhat'])\n",
    "    print(f\"Mean Absolute Error (WVHT) on 2024 Test Data for {station_id}: {mae_wvht}\")\n",
    "    \n",
    "    # Evaluate WTMP\n",
    "    test_merged_wtmp = pd.merge(test_wtmp[['ds', 'y']], \n",
    "                                wtmp_forecast_test[['ds', 'WTMP_pred', 'WTMP_pred_lower', 'WTMP_pred_upper']], \n",
    "                                on='ds', how='inner')\n",
    "    mae_wtmp = mean_absolute_error(test_merged_wtmp['y'], test_merged_wtmp['WTMP_pred'])\n",
    "    print(f\"Mean Absolute Error (WTMP) on 2024 Test Data for {station_id}: {mae_wtmp}\")\n",
    "\n",
    "    # Merge WTMP predictions into final output\n",
    "    final_merged = pd.merge(\n",
    "        wvht_forecast_test, \n",
    "        wtmp_forecast_test[['ds_m_d', 'WTMP_pred', 'WTMP_pred_lower', 'WTMP_pred_upper']], \n",
    "        on='ds_m_d', \n",
    "        how='left'\n",
    "    )\n",
    "\n",
    "    # Add station_id\n",
    "    final_merged['station_id'] = station_id\n",
    "    \n",
    "    # Rename ds_m_d to ds (month-day format)\n",
    "    final_merged['ds'] = final_merged['ds_m_d']\n",
    "    \n",
    "    # Output columns (using ds instead of ds_m_d)\n",
    "    output_df = final_merged[['station_id', 'ds', \n",
    "                              'yhat', 'yhat_lower', 'yhat_upper', \n",
    "                              'WTMP_pred', 'WTMP_pred_lower', 'WTMP_pred_upper']]\n",
    "    \n",
    "    # Save to CSV\n",
    "    if first_run:\n",
    "        output_df.to_csv(output_file, index=False)\n",
    "        first_run = False\n",
    "    else:\n",
    "        output_df.to_csv(output_file, index=False, mode='a', header=False)\n",
    "    \n",
    "    # Plot WVHT Actual vs Predicted\n",
    "    plt.figure(figsize=(10, 6))\n",
    "    plt.plot(test_merged['ds'], test_merged['y'], label='Actual WVHT', marker='o')\n",
    "    plt.plot(test_merged['ds'], test_merged['yhat'], label='Predicted WVHT', marker='o')\n",
    "    plt.fill_between(test_merged['ds'], test_merged['yhat_lower'], test_merged['yhat_upper'], \n",
    "                     color='blue', alpha=0.2, label='WVHT Confidence Interval')\n",
    "    plt.title(f'WVHT: Actual vs. Predicted with Confidence Intervals ({station_id})')\n",
    "    plt.xlabel('Date')\n",
    "    plt.ylabel('WVHT')\n",
    "    plt.grid(True)\n",
    "    plt.legend()\n",
    "    # Save the figure instead of showing it\n",
    "    plt.savefig(os.path.join(plots_dir, f\"{station_id}_WVHT.png\"))\n",
    "    plt.close()\n",
    "\n",
    "    # Plot WTMP Actual vs Predicted\n",
    "    plt.figure(figsize=(10, 6))\n",
    "    plt.plot(test_merged_wtmp['ds'], test_merged_wtmp['y'], label='Actual WTMP', marker='o', color='orange')\n",
    "    plt.plot(test_merged_wtmp['ds'], test_merged_wtmp['WTMP_pred'], label='Predicted WTMP', marker='o', color='red')\n",
    "    plt.fill_between(test_merged_wtmp['ds'], test_merged_wtmp['WTMP_pred_lower'], test_merged_wtmp['WTMP_pred_upper'], \n",
    "                     color='red', alpha=0.2, label='WTMP Confidence Interval')\n",
    "    plt.title(f'WTMP: Actual vs. Predicted with Confidence Intervals ({station_id})')\n",
    "    plt.xlabel('Date')\n",
    "    plt.ylabel('WTMP')\n",
    "    plt.grid(True)\n",
    "    plt.legend()\n",
    "    # Save the figure instead of showing it\n",
    "    plt.savefig(os.path.join(plots_dir, f\"{station_id}_WTMP.png\"))\n",
    "    plt.close()\n",
    "\n",
    "print(\"All forecasts (with WTMP predictions and confidence intervals) saved to\", output_file)\n",
    "print(\"All plots saved in\", plots_dir)"
   ]
  }
 ],
 "metadata": {
  "kernelspec": {
   "display_name": "Python 3",
   "language": "python",
   "name": "python3"
  },
  "language_info": {
   "codemirror_mode": {
    "name": "ipython",
    "version": 3
   },
   "file_extension": ".py",
   "mimetype": "text/x-python",
   "name": "python",
   "nbconvert_exporter": "python",
   "pygments_lexer": "ipython3",
   "version": "3.9.6"
  }
 },
 "nbformat": 4,
 "nbformat_minor": 2
}
