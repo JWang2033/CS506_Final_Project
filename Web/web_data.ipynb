{
 "cells": [
  {
   "cell_type": "code",
   "execution_count": 1,
   "metadata": {},
   "outputs": [],
   "source": [
    "import pandas as pd"
   ]
  },
  {
   "cell_type": "code",
   "execution_count": 3,
   "metadata": {},
   "outputs": [
    {
     "data": {
      "text/html": [
       "<div>\n",
       "<style scoped>\n",
       "    .dataframe tbody tr th:only-of-type {\n",
       "        vertical-align: middle;\n",
       "    }\n",
       "\n",
       "    .dataframe tbody tr th {\n",
       "        vertical-align: top;\n",
       "    }\n",
       "\n",
       "    .dataframe thead th {\n",
       "        text-align: right;\n",
       "    }\n",
       "</style>\n",
       "<table border=\"1\" class=\"dataframe\">\n",
       "  <thead>\n",
       "    <tr style=\"text-align: right;\">\n",
       "      <th></th>\n",
       "      <th>station_id</th>\n",
       "      <th>ds</th>\n",
       "      <th>yhat</th>\n",
       "      <th>yhat_lower</th>\n",
       "      <th>yhat_upper</th>\n",
       "      <th>WTMP_pred</th>\n",
       "      <th>WTMP_pred_lower</th>\n",
       "      <th>WTMP_pred_upper</th>\n",
       "    </tr>\n",
       "  </thead>\n",
       "  <tbody>\n",
       "    <tr>\n",
       "      <th>0</th>\n",
       "      <td>WestTampa_42098</td>\n",
       "      <td>01-01</td>\n",
       "      <td>1.041900</td>\n",
       "      <td>0.547224</td>\n",
       "      <td>1.574802</td>\n",
       "      <td>19.506532</td>\n",
       "      <td>17.902206</td>\n",
       "      <td>21.164176</td>\n",
       "    </tr>\n",
       "    <tr>\n",
       "      <th>1</th>\n",
       "      <td>WestTampa_42098</td>\n",
       "      <td>01-02</td>\n",
       "      <td>0.983905</td>\n",
       "      <td>0.506234</td>\n",
       "      <td>1.483757</td>\n",
       "      <td>19.502684</td>\n",
       "      <td>17.866977</td>\n",
       "      <td>21.139855</td>\n",
       "    </tr>\n",
       "    <tr>\n",
       "      <th>2</th>\n",
       "      <td>WestTampa_42098</td>\n",
       "      <td>01-03</td>\n",
       "      <td>0.948234</td>\n",
       "      <td>0.468208</td>\n",
       "      <td>1.446222</td>\n",
       "      <td>19.484286</td>\n",
       "      <td>17.852471</td>\n",
       "      <td>21.177871</td>\n",
       "    </tr>\n",
       "    <tr>\n",
       "      <th>3</th>\n",
       "      <td>WestTampa_42098</td>\n",
       "      <td>01-04</td>\n",
       "      <td>0.974847</td>\n",
       "      <td>0.507987</td>\n",
       "      <td>1.409103</td>\n",
       "      <td>19.447999</td>\n",
       "      <td>17.763180</td>\n",
       "      <td>21.109441</td>\n",
       "    </tr>\n",
       "    <tr>\n",
       "      <th>4</th>\n",
       "      <td>WestTampa_42098</td>\n",
       "      <td>01-05</td>\n",
       "      <td>0.964135</td>\n",
       "      <td>0.445869</td>\n",
       "      <td>1.480834</td>\n",
       "      <td>19.447887</td>\n",
       "      <td>17.852697</td>\n",
       "      <td>21.112997</td>\n",
       "    </tr>\n",
       "  </tbody>\n",
       "</table>\n",
       "</div>"
      ],
      "text/plain": [
       "        station_id     ds      yhat  yhat_lower  yhat_upper  WTMP_pred  \\\n",
       "0  WestTampa_42098  01-01  1.041900    0.547224    1.574802  19.506532   \n",
       "1  WestTampa_42098  01-02  0.983905    0.506234    1.483757  19.502684   \n",
       "2  WestTampa_42098  01-03  0.948234    0.468208    1.446222  19.484286   \n",
       "3  WestTampa_42098  01-04  0.974847    0.507987    1.409103  19.447999   \n",
       "4  WestTampa_42098  01-05  0.964135    0.445869    1.480834  19.447887   \n",
       "\n",
       "   WTMP_pred_lower  WTMP_pred_upper  \n",
       "0        17.902206        21.164176  \n",
       "1        17.866977        21.139855  \n",
       "2        17.852471        21.177871  \n",
       "3        17.763180        21.109441  \n",
       "4        17.852697        21.112997  "
      ]
     },
     "execution_count": 3,
     "metadata": {},
     "output_type": "execute_result"
    }
   ],
   "source": [
    "df = pd.read_csv('../forecast.csv')\n",
    "df.head()"
   ]
  }
 ],
 "metadata": {
  "kernelspec": {
   "display_name": "Python 3",
   "language": "python",
   "name": "python3"
  },
  "language_info": {
   "codemirror_mode": {
    "name": "ipython",
    "version": 3
   },
   "file_extension": ".py",
   "mimetype": "text/x-python",
   "name": "python",
   "nbconvert_exporter": "python",
   "pygments_lexer": "ipython3",
   "version": "3.11.1"
  }
 },
 "nbformat": 4,
 "nbformat_minor": 2
}
