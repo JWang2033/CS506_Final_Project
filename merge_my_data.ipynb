{
 "cells": [
  {
   "cell_type": "code",
   "execution_count": 32,
   "metadata": {},
   "outputs": [],
   "source": [
    "import numpy as np\n",
    "import pandas as pd"
   ]
  },
  {
   "cell_type": "code",
   "execution_count": 33,
   "metadata": {},
   "outputs": [
    {
     "name": "stderr",
     "output_type": "stream",
     "text": [
      "/var/folders/j6/gnlkxfsx0mz7c1ngs9mbs16m0000gn/T/ipykernel_91913/3199213827.py:1: DtypeWarning: Columns (0,1,2,3,4,7,8,9,10,11,12,13,14,15,16,17) have mixed types. Specify dtype option on import or set low_memory=False.\n",
      "  df_2020 = pd.read_csv('41053_2020.csv')\n",
      "/var/folders/j6/gnlkxfsx0mz7c1ngs9mbs16m0000gn/T/ipykernel_91913/3199213827.py:2: DtypeWarning: Columns (0,1,2,3,4,5,6,7,8,9,10,11,12,13,14,15,16,17) have mixed types. Specify dtype option on import or set low_memory=False.\n",
      "  df_2021 = pd.read_csv('41053_2021.csv')\n",
      "/var/folders/j6/gnlkxfsx0mz7c1ngs9mbs16m0000gn/T/ipykernel_91913/3199213827.py:3: DtypeWarning: Columns (0,1,2,3,4,6,7,8,9,10,11,12,13,14,15,16,17) have mixed types. Specify dtype option on import or set low_memory=False.\n",
      "  df_2022 = pd.read_csv('41053_2022.csv')\n",
      "/var/folders/j6/gnlkxfsx0mz7c1ngs9mbs16m0000gn/T/ipykernel_91913/3199213827.py:4: DtypeWarning: Columns (0,1,2,3,4,6,7,8,9,10,11,12,13,14,15,16,17) have mixed types. Specify dtype option on import or set low_memory=False.\n",
      "  df_2023 = pd.read_csv('41053_2023.csv')\n"
     ]
    }
   ],
   "source": [
    "df_2020 = pd.read_csv('41053_2020.csv')\n",
    "df_2021 = pd.read_csv('41053_2021.csv')\n",
    "df_2022 = pd.read_csv('41053_2022.csv')\n",
    "df_2023 = pd.read_csv('41053_2023.csv')"
   ]
  },
  {
   "cell_type": "code",
   "execution_count": 37,
   "metadata": {},
   "outputs": [
    {
     "name": "stderr",
     "output_type": "stream",
     "text": [
      "/var/folders/j6/gnlkxfsx0mz7c1ngs9mbs16m0000gn/T/ipykernel_91913/327385356.py:1: DtypeWarning: Columns (0,1,2,3,4,5,6,7,8,9,10,11,12,13,14,15,16,17,18,19,20,21) have mixed types. Specify dtype option on import or set low_memory=False.\n",
      "  merged_data = pd.read_csv('merged_data.csv')\n"
     ]
    }
   ],
   "source": [
    "merged_data = pd.read_csv('merged_data.csv')"
   ]
  },
  {
   "cell_type": "code",
   "execution_count": 39,
   "metadata": {},
   "outputs": [
    {
     "data": {
      "text/plain": [
       "Index(['#YY', 'MM', 'DD', 'hh', 'mm', 'WDIR', 'WSPD', 'GST', 'WVHT', 'DPD',\n",
       "       'APD', 'MWD', 'PRES', 'ATMP', 'WTMP', 'DEWP', 'VIS', 'TIDE', 'WDI',\n",
       "       'R WSP', 'D GST', 'WSP'],\n",
       "      dtype='object')"
      ]
     },
     "execution_count": 39,
     "metadata": {},
     "output_type": "execute_result"
    }
   ],
   "source": [
    "merged_data.columns"
   ]
  },
  {
   "cell_type": "code",
   "execution_count": 40,
   "metadata": {},
   "outputs": [],
   "source": [
    "merged_data = merged_data.apply(pd.to_numeric, errors='coerce')"
   ]
  },
  {
   "cell_type": "code",
   "execution_count": 41,
   "metadata": {},
   "outputs": [
    {
     "name": "stdout",
     "output_type": "stream",
     "text": [
      "File exported to: /Users/jdhzy/Desktop/data/merged_data.csv\n"
     ]
    }
   ],
   "source": [
    "# Step 4: Export the merged data to a CSV file\n",
    "output_path = '/Users/jdhzy/Desktop/data/merged_data.csv'\n",
    "merged_data.to_csv(output_path, index=False)\n",
    "print(\"File exported to:\", output_path)"
   ]
  }
 ],
 "metadata": {
  "kernelspec": {
   "display_name": "Python 3",
   "language": "python",
   "name": "python3"
  },
  "language_info": {
   "codemirror_mode": {
    "name": "ipython",
    "version": 3
   },
   "file_extension": ".py",
   "mimetype": "text/x-python",
   "name": "python",
   "nbconvert_exporter": "python",
   "pygments_lexer": "ipython3",
   "version": "3.11.1"
  }
 },
 "nbformat": 4,
 "nbformat_minor": 2
}
